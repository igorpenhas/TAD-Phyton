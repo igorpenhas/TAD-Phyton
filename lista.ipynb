{
  "nbformat": 4,
  "nbformat_minor": 0,
  "metadata": {
    "colab": {
      "name": "lista.ipynb",
      "provenance": []
    },
    "kernelspec": {
      "name": "python3",
      "display_name": "Python 3"
    }
  },
  "cells": [
    {
      "cell_type": "code",
      "metadata": {
        "id": "XJNWjLXKgJQn"
      },
      "source": [
        "class descritor:\n",
        "  \n",
        "  inivet =  none\n",
        "  fimvet =  none\n",
        "  initlist = ini\n",
        "  fimlist = fim\n",
        "  maior =  none\n",
        "  menor = none\n",
        "  \n",
        "\n",
        "class ListaProduto:\n",
        "    elemento=[]\n",
        "    ini=-1\n",
        "    fim=-1\n",
        "    \n",
        "    max= 0\n",
        "    def _init_(self, max):\n",
        "        self.max = max\n",
        "        self.elemento = [0]*max\n",
        "        self.testdescritor = descritor.inivet\n",
        "        self.testdescritor = descritor.fimvet\n",
        "\n",
        "    def consulta(self,posicao):\n",
        "        if((posicao > self.testdescritor.fimlist - initlist)or (posicao < 0)):\n",
        "            return False\n",
        "        else:\n",
        "            return self.elemento[self.ini+posicao]\n",
        "\n",
        "    def insere(self, elem, posicao):\n",
        "        if(((self.testdescritor.initlist == 0)and(self.testdescritor.fimlist == self.maxm-1))or\n",
        "                (posicao > self.testdescritor.fimlist - initlist) or   #POSIÇAO INVALIDA\n",
        "            (posicao < 0) or          #POSIÇAO INVALIDA\n",
        "            ((self.testdescritor.initlist == -1)and (posicao != 0))):   #LISTA VAZIA, SO PODE SER O PRIMEIRO\n",
        "            print(\"Erro: posição inválida\")\n",
        "            \n",
        "            \n",
        "        else:\n",
        "            if(self.testdescritor.initlist == -1):\n",
        "                self.testdescritor.initlist = 0\n",
        "                self.testdescritor.fimlist = 0\n",
        "                self.testdescritor.maior = elem\n",
        "                self.testdescritor.menor = elem\n",
        "                \n",
        "            else:\n",
        "                if(self.testdescritor.fimlist != self.maxm-1):\n",
        "                    for i in range(self.fim, self.ini + posiçao-1, -1):\n",
        "                        self.elemento[i+1] = self.elemento[i]\n",
        "                    self.testdescritor.fimlist = self.fim+1\n",
        "                \n",
        "                else:\n",
        "                  for i in range(self.testdescritor.initlist, self.testdescritor.initlist + posicao):\n",
        "                    self.elemento[i-1] = self.elemento[i]\n",
        "                  self.testdescritor.initlist= self.testdescritor.initlist-1\n",
        "                if(elem > self.testdescritor.maior)\n",
        "                  self.testdescritor.maior = elem\n",
        "                  \n",
        "                if(elem > self.testdescritor.menor)\n",
        "                  self.testdescritor.menor = elem\n",
        "            self.elemento[self.ini+posiçao]=elem\n",
        "    \n",
        "            \n",
        "\n",
        "    def remove(self,posicao):\n",
        "        if((posicao> self.testdescritor.fimlist-self.testdescritor.initlist)or (posicao<0)):\n",
        "            print(\"Erro: posição invalida\")\n",
        "        else:\n",
        "            rem = self.elemento[self.ini+posiçao]\n",
        "            for i in range(self.ini + posicao, self.fim):\n",
        "                self.elemento[i] = self.elemento[i+1]\n",
        "            self.elemento[self.fim]=0\n",
        "            self.testdescritor.fimlist = self.testdescritor.initlist - 1\n",
        "            return rem\n",
        "    \n",
        "    def busca(self, valor):\n",
        "      \n",
        "        for i in range (self.testdescritor.initlist, self.testdescritor.fimlist):\n",
        "            if(valor == elemento[i]):\n",
        "                return elemento[i]\n",
        "            else :\n",
        "              print(\"NAO ESTÁ\");\n",
        "\n",
        "\n",
        "    def atualiza(self,n1,n2):\n",
        "   \n",
        "        for i in range (self.testdescritor.initlist, self.testdescritor.fimlist):\n",
        "          if(self.elemento[i] == n1):\n",
        "            posicao = i\n",
        "          for i in range(self.testdescritor.fimlist,self.testdescritor.initlist + posicao-1, -1):\n",
        "            self.elemento[i+1] = self.elemento[i]\n",
        "          self.fim = self.fim+1\n",
        "          self.elemento[i] = n2"
      ],
      "execution_count": null,
      "outputs": []
    },
    {
      "cell_type": "code",
      "metadata": {
        "id": "ZoiNhpXWgZog"
      },
      "source": [
        "\n",
        "  "
      ],
      "execution_count": null,
      "outputs": []
    },
    {
      "cell_type": "code",
      "metadata": {
        "id": "ytnyix1Lhd3k"
      },
      "source": [
        ""
      ],
      "execution_count": null,
      "outputs": []
    }
  ]
}