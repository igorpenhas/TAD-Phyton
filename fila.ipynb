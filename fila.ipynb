{
  "nbformat": 4,
  "nbformat_minor": 0,
  "metadata": {
    "colab": {
      "name": "fila.ipynb",
      "provenance": [],
      "collapsed_sections": []
    },
    "kernelspec": {
      "name": "python3",
      "display_name": "Python 3"
    }
  },
  "cells": [
    {
      "cell_type": "code",
      "metadata": {
        "id": "3EfCc7jFz8J_"
      },
      "source": [
        "class fila:\n",
        "  def _init__(self,n_elem):\n",
        "    self.limite = n_elem\n",
        "    self.elemento = [0] * n_elem  #limite superior\n",
        "    self.ini = -1\n",
        "    self.fim = -1\n",
        "    self.limite = max\n",
        "    self.offset = -1\n",
        "    self.cont = 0 \n",
        "    \n",
        "    \n",
        "    \n",
        "def insere(self, elem):\n",
        "  if ((self.fim - self.ini + 1 >= self.limite) or\n",
        "    (self.ini - self.fim - 1)==0):\n",
        "    print(\"Fila cheia!\")\n",
        "  else:\n",
        "    if (self.ini < 0):\n",
        "      self.ini = 0\n",
        "      self.fim = 0\n",
        "      self.offset = 0\n",
        "    elif (self.fim < self.limite):\n",
        "      self.fim +=1\n",
        "      self.offset = self.fim\n",
        "      if (self.offset>self.limite-1):\n",
        "        self.offset=0\n",
        "        self.fim=self.offset\n",
        "    else:\n",
        "      self.offset+=1\n",
        "      self.fim=self.offset\n",
        "    self.cont+=1\n",
        "    self.elemento[self.offset] = elem\n",
        "\n",
        "def remove(self)\n",
        "    if((self.fim > self.ini and self.fim - self.ini < 0 ) or\n",
        "      self.fim < self.ini and self. ini -  self.fim) or\n",
        "      (self.cont <= 0))\n",
        "      print(\"Fila Vazia\")\n",
        "    else:\n",
        "        if(self.ini <= self.limite -1): # ver se esta no limtie da direita\n",
        "            aux = self.elemento[self.ini]\n",
        "            self.ini += 1\n",
        "        else:\n",
        "            aux = self.elemento[0]\n",
        "            self.ini = 0\n",
        "        self.count -= 1\n",
        "        return aux\n",
        "    \n",
        "    \n",
        "def consulta(self):\n",
        "  aux = None\n",
        "  if ( self.cont > 0):\n",
        "    aux = self.elemento[self.ini]\n",
        "  return aux \n",
        "\n",
        "\n",
        "\n",
        "def destroi(self)\n",
        "\n",
        "\n",
        "  \n",
        "    "
      ],
      "execution_count": null,
      "outputs": []
    }
  ]
}